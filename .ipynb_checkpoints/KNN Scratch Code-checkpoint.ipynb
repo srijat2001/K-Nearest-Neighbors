{
 "cells": [
  {
   "cell_type": "code",
   "execution_count": 1,
   "metadata": {},
   "outputs": [],
   "source": [
    "#Importing the required libraries\n",
    "import numpy as np\n",
    "import pandas as pd"
   ]
  },
  {
   "cell_type": "code",
   "execution_count": 2,
   "metadata": {},
   "outputs": [],
   "source": [
    "##Importing the CSV file\n",
    "data = pd.read_csv('/home/srija/Downloads/Compressed/Datasets/Social_Network_Ads.csv')"
   ]
  },
  {
   "cell_type": "code",
   "execution_count": 3,
   "metadata": {},
   "outputs": [
    {
     "data": {
      "text/html": [
       "<div>\n",
       "<style scoped>\n",
       "    .dataframe tbody tr th:only-of-type {\n",
       "        vertical-align: middle;\n",
       "    }\n",
       "\n",
       "    .dataframe tbody tr th {\n",
       "        vertical-align: top;\n",
       "    }\n",
       "\n",
       "    .dataframe thead th {\n",
       "        text-align: right;\n",
       "    }\n",
       "</style>\n",
       "<table border=\"1\" class=\"dataframe\">\n",
       "  <thead>\n",
       "    <tr style=\"text-align: right;\">\n",
       "      <th></th>\n",
       "      <th>User ID</th>\n",
       "      <th>Gender</th>\n",
       "      <th>Age</th>\n",
       "      <th>EstimatedSalary</th>\n",
       "      <th>Purchased</th>\n",
       "    </tr>\n",
       "  </thead>\n",
       "  <tbody>\n",
       "    <tr>\n",
       "      <th>0</th>\n",
       "      <td>15624510</td>\n",
       "      <td>Male</td>\n",
       "      <td>19</td>\n",
       "      <td>19000</td>\n",
       "      <td>0</td>\n",
       "    </tr>\n",
       "    <tr>\n",
       "      <th>1</th>\n",
       "      <td>15810944</td>\n",
       "      <td>Male</td>\n",
       "      <td>35</td>\n",
       "      <td>20000</td>\n",
       "      <td>0</td>\n",
       "    </tr>\n",
       "    <tr>\n",
       "      <th>2</th>\n",
       "      <td>15668575</td>\n",
       "      <td>Female</td>\n",
       "      <td>26</td>\n",
       "      <td>43000</td>\n",
       "      <td>0</td>\n",
       "    </tr>\n",
       "    <tr>\n",
       "      <th>3</th>\n",
       "      <td>15603246</td>\n",
       "      <td>Female</td>\n",
       "      <td>27</td>\n",
       "      <td>57000</td>\n",
       "      <td>0</td>\n",
       "    </tr>\n",
       "    <tr>\n",
       "      <th>4</th>\n",
       "      <td>15804002</td>\n",
       "      <td>Male</td>\n",
       "      <td>19</td>\n",
       "      <td>76000</td>\n",
       "      <td>0</td>\n",
       "    </tr>\n",
       "  </tbody>\n",
       "</table>\n",
       "</div>"
      ],
      "text/plain": [
       "    User ID  Gender  Age  EstimatedSalary  Purchased\n",
       "0  15624510    Male   19            19000          0\n",
       "1  15810944    Male   35            20000          0\n",
       "2  15668575  Female   26            43000          0\n",
       "3  15603246  Female   27            57000          0\n",
       "4  15804002    Male   19            76000          0"
      ]
     },
     "execution_count": 3,
     "metadata": {},
     "output_type": "execute_result"
    }
   ],
   "source": [
    "##Take a look at the data\n",
    "data.head()"
   ]
  },
  {
   "cell_type": "code",
   "execution_count": 4,
   "metadata": {},
   "outputs": [],
   "source": [
    "#Extract the required columns\n",
    "X = data.iloc[:,2:5].values"
   ]
  },
  {
   "cell_type": "code",
   "execution_count": 5,
   "metadata": {},
   "outputs": [],
   "source": [
    "##Splitting the data into training and testing samples\n",
    "from sklearn.model_selection import train_test_split\n",
    "train_data,test_data = train_test_split(X,test_size=0.20,random_state=42)"
   ]
  },
  {
   "cell_type": "code",
   "execution_count": 6,
   "metadata": {},
   "outputs": [
    {
     "data": {
      "text/plain": [
       "(320, 3)"
      ]
     },
     "execution_count": 6,
     "metadata": {},
     "output_type": "execute_result"
    }
   ],
   "source": [
    "#Take a look at size of training samples\n",
    "train_data.shape"
   ]
  },
  {
   "cell_type": "code",
   "execution_count": 7,
   "metadata": {},
   "outputs": [
    {
     "data": {
      "text/plain": [
       "(80, 3)"
      ]
     },
     "execution_count": 7,
     "metadata": {},
     "output_type": "execute_result"
    }
   ],
   "source": [
    "##Take a look at size of testing samples\n",
    "test_data.shape"
   ]
  },
  {
   "cell_type": "code",
   "execution_count": 8,
   "metadata": {},
   "outputs": [],
   "source": [
    "##Finding k-value\n",
    "k = int(np.sqrt(len(train_data))/2)\n",
    "if(k%2==0):\n",
    "    k = k+1"
   ]
  },
  {
   "cell_type": "code",
   "execution_count": 9,
   "metadata": {},
   "outputs": [
    {
     "data": {
      "text/plain": [
       "9"
      ]
     },
     "execution_count": 9,
     "metadata": {},
     "output_type": "execute_result"
    }
   ],
   "source": [
    "##K-Value\n",
    "k"
   ]
  },
  {
   "cell_type": "code",
   "execution_count": 10,
   "metadata": {},
   "outputs": [],
   "source": [
    "###Calculating the Euclidean distance\n",
    "import math\n",
    "def Euclidean_distance(instance1,instance2,length):\n",
    "    dist = 0\n",
    "    for i in range(length):\n",
    "        dist += math.pow((instance1[i]-instance2[i]),2)\n",
    "    return math.sqrt(dist)"
   ]
  },
  {
   "cell_type": "code",
   "execution_count": 11,
   "metadata": {},
   "outputs": [],
   "source": [
    "##Neighbors - Selecting subset of size k with smallest distance\n",
    "import operator\n",
    "def k_neighbors(train_data,test_instance,k):\n",
    "    eu_distance = []\n",
    "    length = len(test_instance)-1\n",
    "    for i in range(len(train_data)):\n",
    "        dist = Euclidean_distance(test_instance,train_data[i],length)\n",
    "        eu_distance.append((train_data[i],dist))\n",
    "    eu_distance.sort(key=operator.itemgetter(1))\n",
    "    neighbors = []\n",
    "    for j in range(k):\n",
    "        neighbors.append(eu_distance[j][0])\n",
    "    return neighbors"
   ]
  },
  {
   "cell_type": "code",
   "execution_count": 12,
   "metadata": {},
   "outputs": [],
   "source": [
    "###Predicted Response\n",
    "def get_Response(neighbors):\n",
    "    dict = {}\n",
    "    for i in range(len(neighbors)):\n",
    "        response = neighbors[i][-1]\n",
    "        if response in dict:\n",
    "            dict[response] += 1\n",
    "        else:\n",
    "            dict[response] = 1\n",
    "    sort = sorted(dict.items(),reverse=True)\n",
    "    return sort[0][0]"
   ]
  },
  {
   "cell_type": "code",
   "execution_count": 13,
   "metadata": {},
   "outputs": [],
   "source": [
    "##Measuring Accuracy\n",
    "def get_accuracy(test_data,predictions):\n",
    "    correct = 0\n",
    "    for i in range(len(test_data)):\n",
    "        if test_data[i][-1] in predictions:\n",
    "            correct += 1\n",
    "    return ((correct/len(test_data))*100)"
   ]
  },
  {
   "cell_type": "code",
   "execution_count": 14,
   "metadata": {},
   "outputs": [],
   "source": [
    "##Predictions for testing data\n",
    "def predict():\n",
    "    predictions = []\n",
    "    for i in range(len(test_data)):\n",
    "        neighbors = k_neighbors(train_data,test_data[i],k)\n",
    "        result = get_Response(neighbors)\n",
    "        predictions.append(result)\n",
    "        print('predicted=' + repr(result) + ' Actual=' + repr(test_data[i][-1]))\n",
    "    accuracy = get_accuracy(test_data,predictions)\n",
    "    print('Accuracy :' + str(accuracy) + '%')"
   ]
  },
  {
   "cell_type": "code",
   "execution_count": 15,
   "metadata": {},
   "outputs": [
    {
     "name": "stdout",
     "output_type": "stream",
     "text": [
      "predicted=1 Actual=0\n",
      "predicted=1 Actual=1\n",
      "predicted=0 Actual=0\n",
      "predicted=1 Actual=1\n",
      "predicted=1 Actual=0\n",
      "predicted=0 Actual=0\n",
      "predicted=1 Actual=1\n",
      "predicted=1 Actual=0\n",
      "predicted=1 Actual=0\n",
      "predicted=0 Actual=0\n",
      "predicted=0 Actual=0\n",
      "predicted=1 Actual=1\n",
      "predicted=1 Actual=0\n",
      "predicted=1 Actual=0\n",
      "predicted=1 Actual=0\n",
      "predicted=1 Actual=0\n",
      "predicted=1 Actual=1\n",
      "predicted=1 Actual=0\n",
      "predicted=1 Actual=0\n",
      "predicted=1 Actual=1\n",
      "predicted=1 Actual=0\n",
      "predicted=1 Actual=0\n",
      "predicted=1 Actual=1\n",
      "predicted=1 Actual=1\n",
      "predicted=1 Actual=0\n",
      "predicted=1 Actual=1\n",
      "predicted=1 Actual=0\n",
      "predicted=0 Actual=0\n",
      "predicted=1 Actual=1\n",
      "predicted=1 Actual=0\n",
      "predicted=1 Actual=1\n",
      "predicted=1 Actual=0\n",
      "predicted=1 Actual=1\n",
      "predicted=1 Actual=0\n",
      "predicted=1 Actual=1\n",
      "predicted=1 Actual=0\n",
      "predicted=0 Actual=0\n",
      "predicted=0 Actual=0\n",
      "predicted=1 Actual=0\n",
      "predicted=1 Actual=0\n",
      "predicted=1 Actual=1\n",
      "predicted=0 Actual=0\n",
      "predicted=0 Actual=0\n",
      "predicted=1 Actual=1\n",
      "predicted=1 Actual=0\n",
      "predicted=1 Actual=1\n",
      "predicted=0 Actual=0\n",
      "predicted=1 Actual=0\n",
      "predicted=1 Actual=1\n",
      "predicted=0 Actual=0\n",
      "predicted=1 Actual=0\n",
      "predicted=1 Actual=1\n",
      "predicted=0 Actual=0\n",
      "predicted=1 Actual=0\n",
      "predicted=1 Actual=0\n",
      "predicted=1 Actual=0\n",
      "predicted=1 Actual=1\n",
      "predicted=1 Actual=0\n",
      "predicted=1 Actual=0\n",
      "predicted=1 Actual=0\n",
      "predicted=1 Actual=0\n",
      "predicted=0 Actual=0\n",
      "predicted=1 Actual=1\n",
      "predicted=1 Actual=0\n",
      "predicted=0 Actual=0\n",
      "predicted=1 Actual=1\n",
      "predicted=1 Actual=1\n",
      "predicted=1 Actual=1\n",
      "predicted=0 Actual=0\n",
      "predicted=1 Actual=0\n",
      "predicted=1 Actual=1\n",
      "predicted=0 Actual=0\n",
      "predicted=0 Actual=0\n",
      "predicted=1 Actual=0\n",
      "predicted=1 Actual=1\n",
      "predicted=1 Actual=0\n",
      "predicted=1 Actual=1\n",
      "predicted=1 Actual=1\n",
      "predicted=1 Actual=0\n",
      "predicted=1 Actual=1\n",
      "Accuracy :100.0%\n"
     ]
    }
   ],
   "source": [
    "##Function Call\n",
    "predict()"
   ]
  },
  {
   "cell_type": "code",
   "execution_count": 16,
   "metadata": {},
   "outputs": [],
   "source": [
    "##Predictions for new data \n",
    "def predict_newdata():\n",
    "    x1 = int(input(\"Enter age : \"))\n",
    "    x2 = int(input(\"Enter the estimated salary : \"))\n",
    "    x = np.array([x1,x2])\n",
    "    neighbors = k_neighbors(train_data,x,k)\n",
    "    result = get_Response(neighbors)\n",
    "    if(result == 0):\n",
    "        print(\"Not purchased\")\n",
    "    else:\n",
    "        print(\"Purchased\")\n",
    "    "
   ]
  },
  {
   "cell_type": "code",
   "execution_count": 19,
   "metadata": {},
   "outputs": [
    {
     "name": "stdout",
     "output_type": "stream",
     "text": [
      "Enter age : 50\n",
      "Enter the estimated salary : 50000\n",
      "Purchased\n"
     ]
    }
   ],
   "source": [
    "##Function call\n",
    "predict_newdata()"
   ]
  },
  {
   "cell_type": "code",
   "execution_count": null,
   "metadata": {},
   "outputs": [],
   "source": []
  }
 ],
 "metadata": {
  "kernelspec": {
   "display_name": "Python 3",
   "language": "python",
   "name": "python3"
  },
  "language_info": {
   "codemirror_mode": {
    "name": "ipython",
    "version": 3
   },
   "file_extension": ".py",
   "mimetype": "text/x-python",
   "name": "python",
   "nbconvert_exporter": "python",
   "pygments_lexer": "ipython3",
   "version": "3.8.3"
  }
 },
 "nbformat": 4,
 "nbformat_minor": 4
}
